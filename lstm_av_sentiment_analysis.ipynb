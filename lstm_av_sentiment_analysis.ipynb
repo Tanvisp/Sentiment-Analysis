{
 "cells": [
  {
   "cell_type": "code",
   "execution_count": 10,
   "metadata": {},
   "outputs": [],
   "source": [
    "import sys, os, re, csv, codecs, numpy as np, pandas as pd\n",
    "import keras\n",
    "from keras.preprocessing.text import Tokenizer\n",
    "from keras.preprocessing.sequence import pad_sequences\n",
    "from keras.layers import Dense, Input, LSTM, Embedding, Dropout, Activation\n",
    "from keras.layers import Bidirectional, GlobalMaxPool1D\n",
    "from keras.models import Model\n",
    "from keras import initializers, regularizers, constraints, optimizers, layers"
   ]
  },
  {
   "cell_type": "code",
   "execution_count": 33,
   "metadata": {
    "collapsed": true
   },
   "outputs": [],
   "source": [
    "comp = 'C://Users//tpurohit//Desktop//AV//sentiment//'\n",
    "EMBEDDING_FILE=f'{comp}/glove.6B.50d.txt'\n",
    "TRAIN_DATA_FILE=f'{comp}train.csv'\n",
    "TEST_DATA_FILE=f'{comp}test.csv'"
   ]
  },
  {
   "cell_type": "code",
   "execution_count": 14,
   "metadata": {},
   "outputs": [],
   "source": [
    "embed_size = 50 # how big is each word vector\n",
    "max_features = 20000 # how many unique words to use (i.e num rows in embedding vector)\n",
    "maxlen = 200 # max number of words in a comment to use"
   ]
  },
  {
   "cell_type": "code",
   "execution_count": 15,
   "metadata": {
    "collapsed": true
   },
   "outputs": [],
   "source": [
    "train = pd.read_csv(TRAIN_DATA_FILE)\n",
    "test = pd.read_csv(TEST_DATA_FILE)"
   ]
  },
  {
   "cell_type": "code",
   "execution_count": 21,
   "metadata": {},
   "outputs": [],
   "source": [
    "list_sentences_train = train[\"tweet\"].fillna(\"_na_\").values\n",
    "list_classes = [0,1]\n",
    "y = train[\"label\"].values\n",
    "list_sentences_test = test[\"tweet\"].fillna(\"_na_\").values"
   ]
  },
  {
   "cell_type": "code",
   "execution_count": 23,
   "metadata": {},
   "outputs": [
    {
     "data": {
      "text/plain": [
       "array([' @user when a father is dysfunctional and is so selfish he drags his kids into his dysfunction.   #run',\n",
       "       \"@user @user thanks for #lyft credit i can't use cause they don't offer wheelchair vans in pdx.    #disapointed #getthanked\",\n",
       "       '  bihday your majesty', ...,\n",
       "       'listening to sad songs on a monday morning otw to work is sad  ',\n",
       "       '@user #sikh #temple vandalised in in #calgary, #wso condemns  act  ',\n",
       "       'thank you @user for you follow  '], dtype=object)"
      ]
     },
     "execution_count": 23,
     "metadata": {},
     "output_type": "execute_result"
    }
   ],
   "source": [
    "list_sentences_train"
   ]
  },
  {
   "cell_type": "code",
   "execution_count": 30,
   "metadata": {},
   "outputs": [],
   "source": [
    "tokenizer = Tokenizer(num_words=max_features)\n",
    "tokenizer.fit_on_texts(list(list_sentences_train))\n",
    "list_tokenized_train = tokenizer.texts_to_sequences(list_sentences_train)\n",
    "list_tokenized_test = tokenizer.texts_to_sequences(list_sentences_test)\n",
    "X_t = pad_sequences(list_tokenized_train, maxlen=maxlen)\n",
    "X_te = pad_sequences(list_tokenized_test, maxlen=maxlen)"
   ]
  },
  {
   "cell_type": "code",
   "execution_count": 149,
   "metadata": {},
   "outputs": [
    {
     "data": {
      "text/plain": [
       "array([[    0,     0,     0, ...,    95,  8136,   480],\n",
       "       [    0,     0,     0, ...,  8138, 16534, 10553],\n",
       "       [    0,     0,     0, ...,    62,    26,  3422],\n",
       "       ...,\n",
       "       [    0,     0,     0, ...,    78,    11,   121],\n",
       "       [    0,     0,     0, ...,  1650,  1651,   679],\n",
       "       [    0,     0,     0, ...,     9,     6,   181]])"
      ]
     },
     "execution_count": 149,
     "metadata": {},
     "output_type": "execute_result"
    }
   ],
   "source": [
    "X_t.c\n"
   ]
  },
  {
   "cell_type": "code",
   "execution_count": 40,
   "metadata": {},
   "outputs": [],
   "source": [
    "def get_coefs(word,*arr): return word, np.asarray(arr, dtype='float32')\n",
    "embeddings_index = dict(get_coefs(*o.strip().split()) for o in open(EMBEDDING_FILE,encoding=\"utf8\"))"
   ]
  },
  {
   "cell_type": "code",
   "execution_count": 42,
   "metadata": {},
   "outputs": [
    {
     "data": {
      "text/plain": [
       "(0.020940498, 0.6441043)"
      ]
     },
     "execution_count": 42,
     "metadata": {},
     "output_type": "execute_result"
    }
   ],
   "source": [
    "all_embs = np.stack(embeddings_index.values())\n",
    "emb_mean,emb_std = all_embs.mean(), all_embs.std()\n",
    "emb_mean,emb_std"
   ]
  },
  {
   "cell_type": "code",
   "execution_count": 58,
   "metadata": {
    "collapsed": true
   },
   "outputs": [],
   "source": [
    "word_index = tokenizer.word_index\n",
    "nb_words = min(max_features, len(word_index))\n",
    "embedding_matrix = np.random.normal(emb_mean, emb_std, (nb_words, embed_size))\n",
    "for word, i in word_index.items():\n",
    "    if i >= max_features: continue\n",
    "    embedding_vector = embeddings_index.get(word)\n",
    "    if embedding_vector is not None: embedding_matrix[i] = embedding_vector"
   ]
  },
  {
   "cell_type": "code",
   "execution_count": 64,
   "metadata": {},
   "outputs": [
    {
     "data": {
      "text/plain": [
       "array([[-0.23778784, -1.21685408,  0.01773516, ..., -0.97288039,\n",
       "         1.03382583,  0.62368766],\n",
       "       [ 0.65028   , -0.1691    ,  1.12370002, ...,  0.20633   ,\n",
       "         0.89665997,  0.30050001],\n",
       "       [ 0.41800001,  0.24968   , -0.41242   , ..., -0.18411   ,\n",
       "        -0.11514   , -0.78580999],\n",
       "       ...,\n",
       "       [ 0.71058437,  0.82690056,  1.29065299, ..., -0.02014223,\n",
       "        -0.79903963,  0.08973579],\n",
       "       [ 0.12353   , -0.12846   , -0.2572    , ...,  0.9799    ,\n",
       "         0.85833001, -0.044509  ],\n",
       "       [-0.31576861, -0.38353088,  0.23133222, ...,  0.677951  ,\n",
       "         1.07705488, -0.93719132]])"
      ]
     },
     "execution_count": 64,
     "metadata": {},
     "output_type": "execute_result"
    }
   ],
   "source": [
    "embedding_matrix"
   ]
  },
  {
   "cell_type": "code",
   "execution_count": 143,
   "metadata": {
    "collapsed": true
   },
   "outputs": [],
   "source": [
    "inp = Input(shape=(maxlen,))\n",
    "x = Embedding(max_features, embed_size, weights=[embedding_matrix])(inp)\n",
    "x = Bidirectional(LSTM(60, return_sequences=True, dropout=0.1, recurrent_dropout=0.1))(x)\n",
    "x = GlobalMaxPool1D()(x)\n",
    "x = Dense(50, activation=\"relu\")(x)\n",
    "x = Dropout(0.1)(x)\n",
    "x = Dense(1, activation=\"sigmoid\")(x)\n",
    "model = Model(inputs=inp, outputs=x)\n",
    "model.compile(loss='binary_crossentropy', optimizer='adam', metrics=['accuracy'])"
   ]
  },
  {
   "cell_type": "code",
   "execution_count": 144,
   "metadata": {},
   "outputs": [
    {
     "name": "stdout",
     "output_type": "stream",
     "text": [
      "Train on 28765 samples, validate on 3197 samples\n",
      "Epoch 1/3\n",
      "28765/28765 [==============================] - 239s 8ms/step - loss: 0.1570 - acc: 0.9461 - val_loss: 0.1187 - val_acc: 0.9568\n",
      "Epoch 2/3\n",
      "28765/28765 [==============================] - 238s 8ms/step - loss: 0.0919 - acc: 0.9667 - val_loss: 0.1125 - val_acc: 0.9637\n",
      "Epoch 3/3\n",
      "28765/28765 [==============================] - 246s 9ms/step - loss: 0.0608 - acc: 0.9778 - val_loss: 0.1033 - val_acc: 0.9628\n"
     ]
    }
   ],
   "source": [
    "model.fit(X_t, y, batch_size=20, epochs=3, validation_split=0.1);"
   ]
  },
  {
   "cell_type": "code",
   "execution_count": 145,
   "metadata": {},
   "outputs": [
    {
     "name": "stdout",
     "output_type": "stream",
     "text": [
      "17197/17197 [==============================] - 17s 1ms/step\n"
     ]
    }
   ],
   "source": [
    "y_test = model.predict([X_te], batch_size=1024, verbose=1)\n",
    "sample_submission = pd.read_csv(f'{comp}sample_submission.csv')\n",
    "\n",
    "#sample_submission[list_classes] = y_test\n",
    "#sample_submission.to_csv('submission.csv', index=False)"
   ]
  },
  {
   "cell_type": "code",
   "execution_count": 146,
   "metadata": {},
   "outputs": [],
   "source": [
    "i=0\n",
    "for i in range(len(y_test)):\n",
    "    if y_test[i] < 0.5: y_test[i] =int(0)\n",
    "    else: y_test[i] =int(1)\n",
    "    i =i+1\n",
    "\n",
    "ytest = y_test.astype(int).tolist()\n",
    "\n",
    "output = pd.DataFrame( data={\"id\":test[\"id\"], \"label\":ytest} )\n",
    "# Use pandas to write the comma-separated output file\n",
    "output.to_csv( \"C://Users//tpurohit//Desktop//AV//sentiment//sample.csv\", index=False, quoting=3 )"
   ]
  },
  {
   "cell_type": "code",
   "execution_count": null,
   "metadata": {
    "collapsed": true
   },
   "outputs": [],
   "source": []
  }
 ],
 "metadata": {
  "kernelspec": {
   "display_name": "Python 3",
   "language": "python",
   "name": "python3"
  },
  "language_info": {
   "codemirror_mode": {
    "name": "ipython",
    "version": 3
   },
   "file_extension": ".py",
   "mimetype": "text/x-python",
   "name": "python",
   "nbconvert_exporter": "python",
   "pygments_lexer": "ipython3",
   "version": "3.6.2"
  }
 },
 "nbformat": 4,
 "nbformat_minor": 2
}
